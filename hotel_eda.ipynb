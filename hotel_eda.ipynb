{
 "cells": [
  {
   "cell_type": "markdown",
   "id": "6ff50fb3",
   "metadata": {},
   "source": [
    "# Hotel Data"
   ]
  },
  {
   "cell_type": "markdown",
   "id": "a44cff89",
   "metadata": {},
   "source": [
    "## Import Libraries"
   ]
  },
  {
   "cell_type": "code",
   "execution_count": 1,
   "id": "a6fbc047",
   "metadata": {},
   "outputs": [],
   "source": [
    "import pandas as pd\n",
    "import seaborn as sns\n",
    "import matplotlib.pyplot as plt\n",
    "import numpy as np\n",
    "import scipy.stats as stats # for t-test and ANOVA\n",
    "from scipy.stats import kurtosis, skew\n",
    "import statsmodels.stats.weightstats as weightstats # for z-test (test of means)\n",
    "import statsmodels.stats.proportion as proportion # for z-test (test of proportions)\n",
    "import statsmodels.stats.multicomp as multi  #used for tukey-hsd\n",
    "from sklearn.preprocessing import QuantileTransformer\n",
    "import math"
   ]
  },
  {
   "cell_type": "markdown",
   "id": "053fdf47",
   "metadata": {},
   "source": [
    "## Data"
   ]
  },
  {
   "cell_type": "code",
   "execution_count": 2,
   "id": "cfcb5ca5",
   "metadata": {},
   "outputs": [],
   "source": [
    "df=pd.read_csv(\"Hotel Data.csv\")"
   ]
  },
  {
   "cell_type": "code",
   "execution_count": 3,
   "id": "58e228b7",
   "metadata": {
    "scrolled": false
   },
   "outputs": [
    {
     "data": {
      "text/html": [
       "<div>\n",
       "<style scoped>\n",
       "    .dataframe tbody tr th:only-of-type {\n",
       "        vertical-align: middle;\n",
       "    }\n",
       "\n",
       "    .dataframe tbody tr th {\n",
       "        vertical-align: top;\n",
       "    }\n",
       "\n",
       "    .dataframe thead th {\n",
       "        text-align: right;\n",
       "    }\n",
       "</style>\n",
       "<table border=\"1\" class=\"dataframe\">\n",
       "  <thead>\n",
       "    <tr style=\"text-align: right;\">\n",
       "      <th></th>\n",
       "      <th>hotel</th>\n",
       "      <th>is_canceled</th>\n",
       "      <th>lead_time</th>\n",
       "      <th>arrival_date_year</th>\n",
       "      <th>arrival_date_month</th>\n",
       "      <th>arrival_date_week_number</th>\n",
       "      <th>arrival_date_day_of_month</th>\n",
       "      <th>stays_in_weekend_nights</th>\n",
       "      <th>stays_in_week_nights</th>\n",
       "      <th>adults</th>\n",
       "      <th>...</th>\n",
       "      <th>deposit_type</th>\n",
       "      <th>agent</th>\n",
       "      <th>company</th>\n",
       "      <th>days_in_waiting_list</th>\n",
       "      <th>customer_type</th>\n",
       "      <th>adr</th>\n",
       "      <th>required_car_parking_spaces</th>\n",
       "      <th>total_of_special_requests</th>\n",
       "      <th>reservation_status</th>\n",
       "      <th>reservation_status_date</th>\n",
       "    </tr>\n",
       "  </thead>\n",
       "  <tbody>\n",
       "    <tr>\n",
       "      <th>0</th>\n",
       "      <td>Resort Hotel</td>\n",
       "      <td>0</td>\n",
       "      <td>342</td>\n",
       "      <td>2015</td>\n",
       "      <td>July</td>\n",
       "      <td>27</td>\n",
       "      <td>1</td>\n",
       "      <td>0</td>\n",
       "      <td>0</td>\n",
       "      <td>2</td>\n",
       "      <td>...</td>\n",
       "      <td>No Deposit</td>\n",
       "      <td>NaN</td>\n",
       "      <td>NaN</td>\n",
       "      <td>0</td>\n",
       "      <td>Transient</td>\n",
       "      <td>0.0</td>\n",
       "      <td>0</td>\n",
       "      <td>0</td>\n",
       "      <td>Check-Out</td>\n",
       "      <td>2015-07-01</td>\n",
       "    </tr>\n",
       "    <tr>\n",
       "      <th>1</th>\n",
       "      <td>Resort Hotel</td>\n",
       "      <td>0</td>\n",
       "      <td>737</td>\n",
       "      <td>2015</td>\n",
       "      <td>July</td>\n",
       "      <td>27</td>\n",
       "      <td>1</td>\n",
       "      <td>0</td>\n",
       "      <td>0</td>\n",
       "      <td>2</td>\n",
       "      <td>...</td>\n",
       "      <td>No Deposit</td>\n",
       "      <td>NaN</td>\n",
       "      <td>NaN</td>\n",
       "      <td>0</td>\n",
       "      <td>Transient</td>\n",
       "      <td>0.0</td>\n",
       "      <td>0</td>\n",
       "      <td>0</td>\n",
       "      <td>Check-Out</td>\n",
       "      <td>2015-07-01</td>\n",
       "    </tr>\n",
       "    <tr>\n",
       "      <th>2</th>\n",
       "      <td>Resort Hotel</td>\n",
       "      <td>0</td>\n",
       "      <td>7</td>\n",
       "      <td>2015</td>\n",
       "      <td>July</td>\n",
       "      <td>27</td>\n",
       "      <td>1</td>\n",
       "      <td>0</td>\n",
       "      <td>1</td>\n",
       "      <td>1</td>\n",
       "      <td>...</td>\n",
       "      <td>No Deposit</td>\n",
       "      <td>NaN</td>\n",
       "      <td>NaN</td>\n",
       "      <td>0</td>\n",
       "      <td>Transient</td>\n",
       "      <td>75.0</td>\n",
       "      <td>0</td>\n",
       "      <td>0</td>\n",
       "      <td>Check-Out</td>\n",
       "      <td>2015-07-02</td>\n",
       "    </tr>\n",
       "    <tr>\n",
       "      <th>3</th>\n",
       "      <td>Resort Hotel</td>\n",
       "      <td>0</td>\n",
       "      <td>13</td>\n",
       "      <td>2015</td>\n",
       "      <td>July</td>\n",
       "      <td>27</td>\n",
       "      <td>1</td>\n",
       "      <td>0</td>\n",
       "      <td>1</td>\n",
       "      <td>1</td>\n",
       "      <td>...</td>\n",
       "      <td>No Deposit</td>\n",
       "      <td>304.0</td>\n",
       "      <td>NaN</td>\n",
       "      <td>0</td>\n",
       "      <td>Transient</td>\n",
       "      <td>75.0</td>\n",
       "      <td>0</td>\n",
       "      <td>0</td>\n",
       "      <td>Check-Out</td>\n",
       "      <td>2015-07-02</td>\n",
       "    </tr>\n",
       "    <tr>\n",
       "      <th>4</th>\n",
       "      <td>Resort Hotel</td>\n",
       "      <td>0</td>\n",
       "      <td>14</td>\n",
       "      <td>2015</td>\n",
       "      <td>July</td>\n",
       "      <td>27</td>\n",
       "      <td>1</td>\n",
       "      <td>0</td>\n",
       "      <td>2</td>\n",
       "      <td>2</td>\n",
       "      <td>...</td>\n",
       "      <td>No Deposit</td>\n",
       "      <td>240.0</td>\n",
       "      <td>NaN</td>\n",
       "      <td>0</td>\n",
       "      <td>Transient</td>\n",
       "      <td>98.0</td>\n",
       "      <td>0</td>\n",
       "      <td>1</td>\n",
       "      <td>Check-Out</td>\n",
       "      <td>2015-07-03</td>\n",
       "    </tr>\n",
       "  </tbody>\n",
       "</table>\n",
       "<p>5 rows × 32 columns</p>\n",
       "</div>"
      ],
      "text/plain": [
       "          hotel  is_canceled  lead_time  arrival_date_year arrival_date_month  \\\n",
       "0  Resort Hotel            0        342               2015               July   \n",
       "1  Resort Hotel            0        737               2015               July   \n",
       "2  Resort Hotel            0          7               2015               July   \n",
       "3  Resort Hotel            0         13               2015               July   \n",
       "4  Resort Hotel            0         14               2015               July   \n",
       "\n",
       "   arrival_date_week_number  arrival_date_day_of_month  \\\n",
       "0                        27                          1   \n",
       "1                        27                          1   \n",
       "2                        27                          1   \n",
       "3                        27                          1   \n",
       "4                        27                          1   \n",
       "\n",
       "   stays_in_weekend_nights  stays_in_week_nights  adults  ...  deposit_type  \\\n",
       "0                        0                     0       2  ...    No Deposit   \n",
       "1                        0                     0       2  ...    No Deposit   \n",
       "2                        0                     1       1  ...    No Deposit   \n",
       "3                        0                     1       1  ...    No Deposit   \n",
       "4                        0                     2       2  ...    No Deposit   \n",
       "\n",
       "   agent company days_in_waiting_list customer_type   adr  \\\n",
       "0    NaN     NaN                    0     Transient   0.0   \n",
       "1    NaN     NaN                    0     Transient   0.0   \n",
       "2    NaN     NaN                    0     Transient  75.0   \n",
       "3  304.0     NaN                    0     Transient  75.0   \n",
       "4  240.0     NaN                    0     Transient  98.0   \n",
       "\n",
       "   required_car_parking_spaces  total_of_special_requests  reservation_status  \\\n",
       "0                            0                          0           Check-Out   \n",
       "1                            0                          0           Check-Out   \n",
       "2                            0                          0           Check-Out   \n",
       "3                            0                          0           Check-Out   \n",
       "4                            0                          1           Check-Out   \n",
       "\n",
       "  reservation_status_date  \n",
       "0              2015-07-01  \n",
       "1              2015-07-01  \n",
       "2              2015-07-02  \n",
       "3              2015-07-02  \n",
       "4              2015-07-03  \n",
       "\n",
       "[5 rows x 32 columns]"
      ]
     },
     "execution_count": 3,
     "metadata": {},
     "output_type": "execute_result"
    }
   ],
   "source": [
    "df.head()"
   ]
  },
  {
   "cell_type": "code",
   "execution_count": 4,
   "id": "41a9392c",
   "metadata": {},
   "outputs": [
    {
     "data": {
      "text/html": [
       "<div>\n",
       "<style scoped>\n",
       "    .dataframe tbody tr th:only-of-type {\n",
       "        vertical-align: middle;\n",
       "    }\n",
       "\n",
       "    .dataframe tbody tr th {\n",
       "        vertical-align: top;\n",
       "    }\n",
       "\n",
       "    .dataframe thead th {\n",
       "        text-align: right;\n",
       "    }\n",
       "</style>\n",
       "<table border=\"1\" class=\"dataframe\">\n",
       "  <thead>\n",
       "    <tr style=\"text-align: right;\">\n",
       "      <th></th>\n",
       "      <th>is_canceled</th>\n",
       "      <th>lead_time</th>\n",
       "      <th>arrival_date_year</th>\n",
       "      <th>arrival_date_week_number</th>\n",
       "      <th>arrival_date_day_of_month</th>\n",
       "      <th>stays_in_weekend_nights</th>\n",
       "      <th>stays_in_week_nights</th>\n",
       "      <th>adults</th>\n",
       "      <th>children</th>\n",
       "      <th>babies</th>\n",
       "      <th>is_repeated_guest</th>\n",
       "      <th>previous_cancellations</th>\n",
       "      <th>previous_bookings_not_canceled</th>\n",
       "      <th>booking_changes</th>\n",
       "      <th>agent</th>\n",
       "      <th>company</th>\n",
       "      <th>days_in_waiting_list</th>\n",
       "      <th>adr</th>\n",
       "      <th>required_car_parking_spaces</th>\n",
       "      <th>total_of_special_requests</th>\n",
       "    </tr>\n",
       "  </thead>\n",
       "  <tbody>\n",
       "    <tr>\n",
       "      <th>count</th>\n",
       "      <td>119390.000000</td>\n",
       "      <td>119390.000000</td>\n",
       "      <td>119390.000000</td>\n",
       "      <td>119390.000000</td>\n",
       "      <td>119390.000000</td>\n",
       "      <td>119390.000000</td>\n",
       "      <td>119390.000000</td>\n",
       "      <td>119390.000000</td>\n",
       "      <td>119386.000000</td>\n",
       "      <td>119390.000000</td>\n",
       "      <td>119390.000000</td>\n",
       "      <td>119390.000000</td>\n",
       "      <td>119390.000000</td>\n",
       "      <td>119390.000000</td>\n",
       "      <td>103050.000000</td>\n",
       "      <td>6797.000000</td>\n",
       "      <td>119390.000000</td>\n",
       "      <td>119390.000000</td>\n",
       "      <td>119390.000000</td>\n",
       "      <td>119390.000000</td>\n",
       "    </tr>\n",
       "    <tr>\n",
       "      <th>mean</th>\n",
       "      <td>0.370416</td>\n",
       "      <td>104.011416</td>\n",
       "      <td>2016.156554</td>\n",
       "      <td>27.165173</td>\n",
       "      <td>15.798241</td>\n",
       "      <td>0.927599</td>\n",
       "      <td>2.500302</td>\n",
       "      <td>1.856403</td>\n",
       "      <td>0.103890</td>\n",
       "      <td>0.007949</td>\n",
       "      <td>0.031912</td>\n",
       "      <td>0.087118</td>\n",
       "      <td>0.137097</td>\n",
       "      <td>0.221124</td>\n",
       "      <td>86.693382</td>\n",
       "      <td>189.266735</td>\n",
       "      <td>2.321149</td>\n",
       "      <td>101.831122</td>\n",
       "      <td>0.062518</td>\n",
       "      <td>0.571363</td>\n",
       "    </tr>\n",
       "    <tr>\n",
       "      <th>std</th>\n",
       "      <td>0.482918</td>\n",
       "      <td>106.863097</td>\n",
       "      <td>0.707476</td>\n",
       "      <td>13.605138</td>\n",
       "      <td>8.780829</td>\n",
       "      <td>0.998613</td>\n",
       "      <td>1.908286</td>\n",
       "      <td>0.579261</td>\n",
       "      <td>0.398561</td>\n",
       "      <td>0.097436</td>\n",
       "      <td>0.175767</td>\n",
       "      <td>0.844336</td>\n",
       "      <td>1.497437</td>\n",
       "      <td>0.652306</td>\n",
       "      <td>110.774548</td>\n",
       "      <td>131.655015</td>\n",
       "      <td>17.594721</td>\n",
       "      <td>50.535790</td>\n",
       "      <td>0.245291</td>\n",
       "      <td>0.792798</td>\n",
       "    </tr>\n",
       "    <tr>\n",
       "      <th>min</th>\n",
       "      <td>0.000000</td>\n",
       "      <td>0.000000</td>\n",
       "      <td>2015.000000</td>\n",
       "      <td>1.000000</td>\n",
       "      <td>1.000000</td>\n",
       "      <td>0.000000</td>\n",
       "      <td>0.000000</td>\n",
       "      <td>0.000000</td>\n",
       "      <td>0.000000</td>\n",
       "      <td>0.000000</td>\n",
       "      <td>0.000000</td>\n",
       "      <td>0.000000</td>\n",
       "      <td>0.000000</td>\n",
       "      <td>0.000000</td>\n",
       "      <td>1.000000</td>\n",
       "      <td>6.000000</td>\n",
       "      <td>0.000000</td>\n",
       "      <td>-6.380000</td>\n",
       "      <td>0.000000</td>\n",
       "      <td>0.000000</td>\n",
       "    </tr>\n",
       "    <tr>\n",
       "      <th>25%</th>\n",
       "      <td>0.000000</td>\n",
       "      <td>18.000000</td>\n",
       "      <td>2016.000000</td>\n",
       "      <td>16.000000</td>\n",
       "      <td>8.000000</td>\n",
       "      <td>0.000000</td>\n",
       "      <td>1.000000</td>\n",
       "      <td>2.000000</td>\n",
       "      <td>0.000000</td>\n",
       "      <td>0.000000</td>\n",
       "      <td>0.000000</td>\n",
       "      <td>0.000000</td>\n",
       "      <td>0.000000</td>\n",
       "      <td>0.000000</td>\n",
       "      <td>9.000000</td>\n",
       "      <td>62.000000</td>\n",
       "      <td>0.000000</td>\n",
       "      <td>69.290000</td>\n",
       "      <td>0.000000</td>\n",
       "      <td>0.000000</td>\n",
       "    </tr>\n",
       "    <tr>\n",
       "      <th>50%</th>\n",
       "      <td>0.000000</td>\n",
       "      <td>69.000000</td>\n",
       "      <td>2016.000000</td>\n",
       "      <td>28.000000</td>\n",
       "      <td>16.000000</td>\n",
       "      <td>1.000000</td>\n",
       "      <td>2.000000</td>\n",
       "      <td>2.000000</td>\n",
       "      <td>0.000000</td>\n",
       "      <td>0.000000</td>\n",
       "      <td>0.000000</td>\n",
       "      <td>0.000000</td>\n",
       "      <td>0.000000</td>\n",
       "      <td>0.000000</td>\n",
       "      <td>14.000000</td>\n",
       "      <td>179.000000</td>\n",
       "      <td>0.000000</td>\n",
       "      <td>94.575000</td>\n",
       "      <td>0.000000</td>\n",
       "      <td>0.000000</td>\n",
       "    </tr>\n",
       "    <tr>\n",
       "      <th>75%</th>\n",
       "      <td>1.000000</td>\n",
       "      <td>160.000000</td>\n",
       "      <td>2017.000000</td>\n",
       "      <td>38.000000</td>\n",
       "      <td>23.000000</td>\n",
       "      <td>2.000000</td>\n",
       "      <td>3.000000</td>\n",
       "      <td>2.000000</td>\n",
       "      <td>0.000000</td>\n",
       "      <td>0.000000</td>\n",
       "      <td>0.000000</td>\n",
       "      <td>0.000000</td>\n",
       "      <td>0.000000</td>\n",
       "      <td>0.000000</td>\n",
       "      <td>229.000000</td>\n",
       "      <td>270.000000</td>\n",
       "      <td>0.000000</td>\n",
       "      <td>126.000000</td>\n",
       "      <td>0.000000</td>\n",
       "      <td>1.000000</td>\n",
       "    </tr>\n",
       "    <tr>\n",
       "      <th>max</th>\n",
       "      <td>1.000000</td>\n",
       "      <td>737.000000</td>\n",
       "      <td>2017.000000</td>\n",
       "      <td>53.000000</td>\n",
       "      <td>31.000000</td>\n",
       "      <td>19.000000</td>\n",
       "      <td>50.000000</td>\n",
       "      <td>55.000000</td>\n",
       "      <td>10.000000</td>\n",
       "      <td>10.000000</td>\n",
       "      <td>1.000000</td>\n",
       "      <td>26.000000</td>\n",
       "      <td>72.000000</td>\n",
       "      <td>21.000000</td>\n",
       "      <td>535.000000</td>\n",
       "      <td>543.000000</td>\n",
       "      <td>391.000000</td>\n",
       "      <td>5400.000000</td>\n",
       "      <td>8.000000</td>\n",
       "      <td>5.000000</td>\n",
       "    </tr>\n",
       "  </tbody>\n",
       "</table>\n",
       "</div>"
      ],
      "text/plain": [
       "         is_canceled      lead_time  arrival_date_year  \\\n",
       "count  119390.000000  119390.000000      119390.000000   \n",
       "mean        0.370416     104.011416        2016.156554   \n",
       "std         0.482918     106.863097           0.707476   \n",
       "min         0.000000       0.000000        2015.000000   \n",
       "25%         0.000000      18.000000        2016.000000   \n",
       "50%         0.000000      69.000000        2016.000000   \n",
       "75%         1.000000     160.000000        2017.000000   \n",
       "max         1.000000     737.000000        2017.000000   \n",
       "\n",
       "       arrival_date_week_number  arrival_date_day_of_month  \\\n",
       "count             119390.000000              119390.000000   \n",
       "mean                  27.165173                  15.798241   \n",
       "std                   13.605138                   8.780829   \n",
       "min                    1.000000                   1.000000   \n",
       "25%                   16.000000                   8.000000   \n",
       "50%                   28.000000                  16.000000   \n",
       "75%                   38.000000                  23.000000   \n",
       "max                   53.000000                  31.000000   \n",
       "\n",
       "       stays_in_weekend_nights  stays_in_week_nights         adults  \\\n",
       "count            119390.000000         119390.000000  119390.000000   \n",
       "mean                  0.927599              2.500302       1.856403   \n",
       "std                   0.998613              1.908286       0.579261   \n",
       "min                   0.000000              0.000000       0.000000   \n",
       "25%                   0.000000              1.000000       2.000000   \n",
       "50%                   1.000000              2.000000       2.000000   \n",
       "75%                   2.000000              3.000000       2.000000   \n",
       "max                  19.000000             50.000000      55.000000   \n",
       "\n",
       "            children         babies  is_repeated_guest  \\\n",
       "count  119386.000000  119390.000000      119390.000000   \n",
       "mean        0.103890       0.007949           0.031912   \n",
       "std         0.398561       0.097436           0.175767   \n",
       "min         0.000000       0.000000           0.000000   \n",
       "25%         0.000000       0.000000           0.000000   \n",
       "50%         0.000000       0.000000           0.000000   \n",
       "75%         0.000000       0.000000           0.000000   \n",
       "max        10.000000      10.000000           1.000000   \n",
       "\n",
       "       previous_cancellations  previous_bookings_not_canceled  \\\n",
       "count           119390.000000                   119390.000000   \n",
       "mean                 0.087118                        0.137097   \n",
       "std                  0.844336                        1.497437   \n",
       "min                  0.000000                        0.000000   \n",
       "25%                  0.000000                        0.000000   \n",
       "50%                  0.000000                        0.000000   \n",
       "75%                  0.000000                        0.000000   \n",
       "max                 26.000000                       72.000000   \n",
       "\n",
       "       booking_changes          agent      company  days_in_waiting_list  \\\n",
       "count    119390.000000  103050.000000  6797.000000         119390.000000   \n",
       "mean          0.221124      86.693382   189.266735              2.321149   \n",
       "std           0.652306     110.774548   131.655015             17.594721   \n",
       "min           0.000000       1.000000     6.000000              0.000000   \n",
       "25%           0.000000       9.000000    62.000000              0.000000   \n",
       "50%           0.000000      14.000000   179.000000              0.000000   \n",
       "75%           0.000000     229.000000   270.000000              0.000000   \n",
       "max          21.000000     535.000000   543.000000            391.000000   \n",
       "\n",
       "                 adr  required_car_parking_spaces  total_of_special_requests  \n",
       "count  119390.000000                119390.000000              119390.000000  \n",
       "mean      101.831122                     0.062518                   0.571363  \n",
       "std        50.535790                     0.245291                   0.792798  \n",
       "min        -6.380000                     0.000000                   0.000000  \n",
       "25%        69.290000                     0.000000                   0.000000  \n",
       "50%        94.575000                     0.000000                   0.000000  \n",
       "75%       126.000000                     0.000000                   1.000000  \n",
       "max      5400.000000                     8.000000                   5.000000  "
      ]
     },
     "execution_count": 4,
     "metadata": {},
     "output_type": "execute_result"
    }
   ],
   "source": [
    "df.describe()"
   ]
  },
  {
   "cell_type": "code",
   "execution_count": 5,
   "id": "7e93eae6",
   "metadata": {},
   "outputs": [
    {
     "data": {
      "text/plain": [
       "(119390, 32)"
      ]
     },
     "execution_count": 5,
     "metadata": {},
     "output_type": "execute_result"
    }
   ],
   "source": [
    "df.shape"
   ]
  },
  {
   "cell_type": "code",
   "execution_count": 6,
   "id": "cfa641d9",
   "metadata": {},
   "outputs": [
    {
     "data": {
      "text/plain": [
       "A    85994\n",
       "D    19201\n",
       "E     6535\n",
       "F     2897\n",
       "G     2094\n",
       "B     1118\n",
       "C      932\n",
       "H      601\n",
       "P       12\n",
       "L        6\n",
       "Name: reserved_room_type, dtype: int64"
      ]
     },
     "execution_count": 6,
     "metadata": {},
     "output_type": "execute_result"
    }
   ],
   "source": [
    "(df['reserved_room_type'].value_counts())"
   ]
  },
  {
   "cell_type": "code",
   "execution_count": 7,
   "id": "4022d26a",
   "metadata": {},
   "outputs": [
    {
     "data": {
      "text/plain": [
       "A    74053\n",
       "D    25322\n",
       "E     7806\n",
       "F     3751\n",
       "G     2553\n",
       "C     2375\n",
       "B     2163\n",
       "H      712\n",
       "I      363\n",
       "K      279\n",
       "P       12\n",
       "L        1\n",
       "Name: assigned_room_type, dtype: int64"
      ]
     },
     "execution_count": 7,
     "metadata": {},
     "output_type": "execute_result"
    }
   ],
   "source": [
    "(df['assigned_room_type'].value_counts())"
   ]
  },
  {
   "cell_type": "markdown",
   "id": "c3588b93",
   "metadata": {},
   "source": [
    "### Add columns"
   ]
  },
  {
   "cell_type": "markdown",
   "id": "3921c9bf",
   "metadata": {},
   "source": [
    "#### reserved_assigned"
   ]
  },
  {
   "cell_type": "markdown",
   "id": "d7d5aaeb",
   "metadata": {},
   "source": [
    "Add 'reserved_assigned':\n",
    "\n",
    "Look at whether customers received the room they reserved or were assigned a different room type.\n",
    "\n",
    "True = reserved_room_type == assigned_room_type\n",
    "False = reserved_room_type != assigned_room_type"
   ]
  },
  {
   "cell_type": "code",
   "execution_count": 8,
   "id": "b5d6d9c2",
   "metadata": {},
   "outputs": [],
   "source": [
    "df['reserved_assigned'] = df['reserved_room_type']==df['assigned_room_type']"
   ]
  },
  {
   "cell_type": "markdown",
   "id": "d14562d2",
   "metadata": {},
   "source": [
    "#### total_stay"
   ]
  },
  {
   "cell_type": "markdown",
   "id": "b38e8bb6",
   "metadata": {},
   "source": [
    "Find total length of stay by adding week and weekend nights"
   ]
  },
  {
   "cell_type": "code",
   "execution_count": 9,
   "id": "9f5322aa",
   "metadata": {},
   "outputs": [],
   "source": [
    "df['total_stay'] = df['stays_in_weekend_nights'] + df['stays_in_week_nights']"
   ]
  },
  {
   "cell_type": "markdown",
   "id": "f0d5cb29",
   "metadata": {},
   "source": [
    "#### revenue"
   ]
  },
  {
   "cell_type": "markdown",
   "id": "1b153726",
   "metadata": {},
   "source": [
    "Find revenue by multiply total stay by adr (average day rate)"
   ]
  },
  {
   "cell_type": "code",
   "execution_count": 10,
   "id": "71bf8dd3",
   "metadata": {},
   "outputs": [],
   "source": [
    "df['revenue'] = df['total_stay'] * df['adr']"
   ]
  },
  {
   "cell_type": "markdown",
   "id": "ad2f409f",
   "metadata": {},
   "source": [
    "# ADR vs Room Type"
   ]
  },
  {
   "cell_type": "markdown",
   "id": "005135a4",
   "metadata": {},
   "source": [
    "Hypothesis: Revenue of hotels would increase if customers were assigned reserved rooms"
   ]
  },
  {
   "cell_type": "markdown",
   "id": "72355688",
   "metadata": {},
   "source": [
    "### Average ADR"
   ]
  },
  {
   "cell_type": "markdown",
   "id": "667dbec5",
   "metadata": {},
   "source": [
    "#### reserved room types"
   ]
  },
  {
   "cell_type": "code",
   "execution_count": 11,
   "id": "4da01ef0",
   "metadata": {},
   "outputs": [
    {
     "data": {
      "text/plain": [
       "reserved_room_type\n",
       "A     90.796658\n",
       "B     90.360447\n",
       "C    160.216792\n",
       "D    120.682882\n",
       "E    124.540179\n",
       "F    167.689651\n",
       "G    175.996027\n",
       "H    188.223111\n",
       "L    124.666667\n",
       "P      0.000000\n",
       "Name: adr, dtype: float64"
      ]
     },
     "execution_count": 11,
     "metadata": {},
     "output_type": "execute_result"
    }
   ],
   "source": [
    "df.groupby('reserved_room_type')['adr'].mean()"
   ]
  },
  {
   "cell_type": "markdown",
   "id": "9759e99e",
   "metadata": {},
   "source": [
    "#### assigned room types"
   ]
  },
  {
   "cell_type": "code",
   "execution_count": 12,
   "id": "f78aa6fb",
   "metadata": {},
   "outputs": [
    {
     "name": "stdout",
     "output_type": "stream",
     "text": [
      "assigned_room_type\n",
      "A     93.142347\n",
      "B     94.450264\n",
      "C    113.423583\n",
      "D    107.453633\n",
      "E    117.704224\n",
      "F    151.889931\n",
      "G    166.530309\n",
      "H    171.380772\n",
      "I     40.843774\n",
      "K     53.698889\n",
      "L      8.000000\n",
      "P      0.000000\n",
      "Name: adr, dtype: float64\n"
     ]
    }
   ],
   "source": [
    "a_mean = df.groupby('assigned_room_type')['adr'].mean()\n",
    "\n",
    "print(a_mean)"
   ]
  },
  {
   "cell_type": "code",
   "execution_count": 13,
   "id": "cfb71b2b",
   "metadata": {},
   "outputs": [],
   "source": [
    "adr_by_room_type = a_mean.to_dict()"
   ]
  },
  {
   "cell_type": "code",
   "execution_count": 14,
   "id": "05dbd6ca",
   "metadata": {},
   "outputs": [
    {
     "data": {
      "text/plain": [
       "{'A': 93.1423468326739,\n",
       " 'B': 94.45026352288488,\n",
       " 'C': 113.42358315789474,\n",
       " 'D': 107.45363280941474,\n",
       " 'E': 117.70422367409685,\n",
       " 'F': 151.88993068515063,\n",
       " 'G': 166.53030943987466,\n",
       " 'H': 171.38077247191012,\n",
       " 'I': 40.84377410468319,\n",
       " 'K': 53.69888888888889,\n",
       " 'L': 8.0,\n",
       " 'P': 0.0}"
      ]
     },
     "execution_count": 14,
     "metadata": {},
     "output_type": "execute_result"
    }
   ],
   "source": [
    "adr_by_room_type"
   ]
  },
  {
   "cell_type": "markdown",
   "id": "59fa89db",
   "metadata": {},
   "source": [
    "### Potential Revenue"
   ]
  },
  {
   "cell_type": "markdown",
   "id": "1399e5b9",
   "metadata": {},
   "source": [
    "#### Filter relevant rows + columns"
   ]
  },
  {
   "cell_type": "markdown",
   "id": "c20b4732",
   "metadata": {},
   "source": [
    "- Filter to only include rows in which customers where not assigned the room type they reserved\n",
    "- Filter to retain only relevant columns"
   ]
  },
  {
   "cell_type": "code",
   "execution_count": 15,
   "id": "8de45adb",
   "metadata": {},
   "outputs": [],
   "source": [
    "df2 = df[df['reserved_assigned'] == False]"
   ]
  },
  {
   "cell_type": "code",
   "execution_count": 16,
   "id": "1a6ccc90",
   "metadata": {},
   "outputs": [],
   "source": [
    "columns_to_keep = ['hotel','reserved_room_type','assigned_room_type','reserved_assigned','total_stay','adr','revenue']\n",
    "\n",
    "df2 = df2.loc[:, columns_to_keep]"
   ]
  },
  {
   "cell_type": "markdown",
   "id": "666c1eca",
   "metadata": {},
   "source": [
    "#### Potential revenue"
   ]
  },
  {
   "cell_type": "markdown",
   "id": "ecd2f14c",
   "metadata": {},
   "source": [
    "Calculate potential revenue by applying average adr to reserved room type. Then find different between pr and r."
   ]
  },
  {
   "cell_type": "code",
   "execution_count": 17,
   "id": "f6ac9cfd",
   "metadata": {},
   "outputs": [],
   "source": [
    "def calculate_potential_revenue(row):\n",
    "    assigned_room = row['reserved_room_type']\n",
    "    revenue = row['revenue']\n",
    "    total_stay = row['total_stay']\n",
    "    \n",
    "    new_adr = adr_by_room_type.get(assigned_room, 0)\n",
    "    potential_revenue = new_adr * total_stay\n",
    "    revenue_difference = potential_revenue - revenue\n",
    "    \n",
    "    return pd.Series([potential_revenue, revenue_difference], index=['potential_revenue', 'revenue_difference'])\n",
    "    \n",
    "df2[['potential_revenue', 'revenue_difference']] = df2.apply(calculate_potential_revenue, axis=1)"
   ]
  },
  {
   "cell_type": "markdown",
   "id": "b32bc5f2",
   "metadata": {},
   "source": [
    "#### Potential profit"
   ]
  },
  {
   "cell_type": "markdown",
   "id": "e049d1e3",
   "metadata": {},
   "source": [
    "Find out if potential revenue(pr) is larger than current revenue(r)\n",
    "\n",
    "True = pr > r\n",
    "False = pr !> r"
   ]
  },
  {
   "cell_type": "code",
   "execution_count": 18,
   "id": "4f50c901",
   "metadata": {},
   "outputs": [],
   "source": [
    "df2['potential_profit'] = df2['potential_revenue'] > df2['revenue']"
   ]
  },
  {
   "cell_type": "code",
   "execution_count": 19,
   "id": "789c416c",
   "metadata": {},
   "outputs": [
    {
     "data": {
      "text/html": [
       "<div>\n",
       "<style scoped>\n",
       "    .dataframe tbody tr th:only-of-type {\n",
       "        vertical-align: middle;\n",
       "    }\n",
       "\n",
       "    .dataframe tbody tr th {\n",
       "        vertical-align: top;\n",
       "    }\n",
       "\n",
       "    .dataframe thead th {\n",
       "        text-align: right;\n",
       "    }\n",
       "</style>\n",
       "<table border=\"1\" class=\"dataframe\">\n",
       "  <thead>\n",
       "    <tr style=\"text-align: right;\">\n",
       "      <th></th>\n",
       "      <th>hotel</th>\n",
       "      <th>reserved_room_type</th>\n",
       "      <th>assigned_room_type</th>\n",
       "      <th>reserved_assigned</th>\n",
       "      <th>total_stay</th>\n",
       "      <th>adr</th>\n",
       "      <th>revenue</th>\n",
       "      <th>potential_revenue</th>\n",
       "      <th>revenue_difference</th>\n",
       "      <th>potential_profit</th>\n",
       "    </tr>\n",
       "  </thead>\n",
       "  <tbody>\n",
       "    <tr>\n",
       "      <th>2</th>\n",
       "      <td>Resort Hotel</td>\n",
       "      <td>A</td>\n",
       "      <td>C</td>\n",
       "      <td>False</td>\n",
       "      <td>1</td>\n",
       "      <td>75.00</td>\n",
       "      <td>75.00</td>\n",
       "      <td>93.142347</td>\n",
       "      <td>18.142347</td>\n",
       "      <td>True</td>\n",
       "    </tr>\n",
       "    <tr>\n",
       "      <th>12</th>\n",
       "      <td>Resort Hotel</td>\n",
       "      <td>D</td>\n",
       "      <td>E</td>\n",
       "      <td>False</td>\n",
       "      <td>4</td>\n",
       "      <td>97.00</td>\n",
       "      <td>388.00</td>\n",
       "      <td>429.814531</td>\n",
       "      <td>41.814531</td>\n",
       "      <td>True</td>\n",
       "    </tr>\n",
       "    <tr>\n",
       "      <th>15</th>\n",
       "      <td>Resort Hotel</td>\n",
       "      <td>D</td>\n",
       "      <td>E</td>\n",
       "      <td>False</td>\n",
       "      <td>4</td>\n",
       "      <td>97.00</td>\n",
       "      <td>388.00</td>\n",
       "      <td>429.814531</td>\n",
       "      <td>41.814531</td>\n",
       "      <td>True</td>\n",
       "    </tr>\n",
       "    <tr>\n",
       "      <th>17</th>\n",
       "      <td>Resort Hotel</td>\n",
       "      <td>A</td>\n",
       "      <td>E</td>\n",
       "      <td>False</td>\n",
       "      <td>1</td>\n",
       "      <td>88.20</td>\n",
       "      <td>88.20</td>\n",
       "      <td>93.142347</td>\n",
       "      <td>4.942347</td>\n",
       "      <td>True</td>\n",
       "    </tr>\n",
       "    <tr>\n",
       "      <th>18</th>\n",
       "      <td>Resort Hotel</td>\n",
       "      <td>A</td>\n",
       "      <td>G</td>\n",
       "      <td>False</td>\n",
       "      <td>1</td>\n",
       "      <td>107.42</td>\n",
       "      <td>107.42</td>\n",
       "      <td>93.142347</td>\n",
       "      <td>-14.277653</td>\n",
       "      <td>False</td>\n",
       "    </tr>\n",
       "  </tbody>\n",
       "</table>\n",
       "</div>"
      ],
      "text/plain": [
       "           hotel reserved_room_type assigned_room_type  reserved_assigned  \\\n",
       "2   Resort Hotel                  A                  C              False   \n",
       "12  Resort Hotel                  D                  E              False   \n",
       "15  Resort Hotel                  D                  E              False   \n",
       "17  Resort Hotel                  A                  E              False   \n",
       "18  Resort Hotel                  A                  G              False   \n",
       "\n",
       "    total_stay     adr  revenue  potential_revenue  revenue_difference  \\\n",
       "2            1   75.00    75.00          93.142347           18.142347   \n",
       "12           4   97.00   388.00         429.814531           41.814531   \n",
       "15           4   97.00   388.00         429.814531           41.814531   \n",
       "17           1   88.20    88.20          93.142347            4.942347   \n",
       "18           1  107.42   107.42          93.142347          -14.277653   \n",
       "\n",
       "    potential_profit  \n",
       "2               True  \n",
       "12              True  \n",
       "15              True  \n",
       "17              True  \n",
       "18             False  "
      ]
     },
     "execution_count": 19,
     "metadata": {},
     "output_type": "execute_result"
    }
   ],
   "source": [
    "df2.head()"
   ]
  },
  {
   "cell_type": "code",
   "execution_count": 20,
   "id": "d9434147",
   "metadata": {},
   "outputs": [
    {
     "data": {
      "text/plain": [
       "True     9515\n",
       "False    5402\n",
       "Name: potential_profit, dtype: int64"
      ]
     },
     "execution_count": 20,
     "metadata": {},
     "output_type": "execute_result"
    }
   ],
   "source": [
    "df2['potential_profit'].value_counts()"
   ]
  },
  {
   "cell_type": "code",
   "execution_count": 21,
   "id": "6bb5e3e6",
   "metadata": {},
   "outputs": [
    {
     "data": {
      "text/plain": [
       "True     104473\n",
       "False     14917\n",
       "Name: reserved_assigned, dtype: int64"
      ]
     },
     "execution_count": 21,
     "metadata": {},
     "output_type": "execute_result"
    }
   ],
   "source": [
    "df['reserved_assigned'].value_counts()"
   ]
  },
  {
   "cell_type": "code",
   "execution_count": 22,
   "id": "273d9296",
   "metadata": {},
   "outputs": [
    {
     "name": "stdout",
     "output_type": "stream",
     "text": [
      "Current total revenue is 3510294.4\n",
      "Potential total revenue is 4021700.69\n",
      "Difference of 511406.29\n"
     ]
    }
   ],
   "source": [
    "sum_r = round(sum(df2['revenue']),2)\n",
    "sum_pr = round(sum(df2['potential_revenue']),2)\n",
    "diff = round(abs(sum_r - sum_pr),2)\n",
    "\n",
    "print(\"Current total revenue is \" + str(sum_r))\n",
    "print(\"Potential total revenue is \" + str(sum_pr))\n",
    "print(\"Difference of \" + str(diff))"
   ]
  },
  {
   "cell_type": "markdown",
   "id": "ef19a4e9",
   "metadata": {},
   "source": [
    "There's a potential to increase profit if customers were assigned their reserved rooms. In a majority of the case, the difference is positive.\n",
    "\n",
    "Hypothesis is true."
   ]
  },
  {
   "cell_type": "markdown",
   "id": "329e3bdc",
   "metadata": {},
   "source": [
    "### Analsysis of Median ADR Room Type"
   ]
  },
  {
   "cell_type": "markdown",
   "id": "0578a9ec",
   "metadata": {},
   "source": [
    "Find median of average adr by room type:"
   ]
  },
  {
   "cell_type": "code",
   "execution_count": 23,
   "id": "5023fada",
   "metadata": {},
   "outputs": [
    {
     "data": {
      "text/plain": [
       "assigned_room_type\n",
       "P      0.000000\n",
       "L      8.000000\n",
       "I     40.843774\n",
       "K     53.698889\n",
       "A     93.142347\n",
       "B     94.450264\n",
       "D    107.453633\n",
       "C    113.423583\n",
       "E    117.704224\n",
       "F    151.889931\n",
       "G    166.530309\n",
       "H    171.380772\n",
       "Name: adr, dtype: float64"
      ]
     },
     "execution_count": 23,
     "metadata": {},
     "output_type": "execute_result"
    }
   ],
   "source": [
    "a_mean.sort_values(ascending=True)"
   ]
  },
  {
   "cell_type": "code",
   "execution_count": 24,
   "id": "b32d4d74",
   "metadata": {},
   "outputs": [
    {
     "data": {
      "text/plain": [
       "107.45363280941474"
      ]
     },
     "execution_count": 24,
     "metadata": {},
     "output_type": "execute_result"
    }
   ],
   "source": [
    "a_mean.sort_values(ascending=True)[6]"
   ]
  },
  {
   "cell_type": "markdown",
   "id": "20f4da74",
   "metadata": {},
   "source": [
    "Room type of median adr: D"
   ]
  },
  {
   "cell_type": "markdown",
   "id": "5b1b8838",
   "metadata": {},
   "source": [
    "#### Assigned Room Type D comparison"
   ]
  },
  {
   "cell_type": "markdown",
   "id": "47b26021",
   "metadata": {},
   "source": [
    "rr - reserved room\n",
    "ar - assigned room\n",
    "\n",
    "Sort of df into 3 groups:\n",
    "- dd = rr = ar\n",
    "- hd = rr != ar (higher adr rooms)\n",
    "- ld = rr!= ar (lower adr rooms)"
   ]
  },
  {
   "cell_type": "code",
   "execution_count": 25,
   "id": "c59d6e54",
   "metadata": {},
   "outputs": [],
   "source": [
    "dd = []\n",
    "hd = []\n",
    "ld = []\n",
    "\n",
    "hr = ['C', 'E', 'F', 'G', 'H']\n",
    "\n",
    "for index, row in df.iterrows():\n",
    "    if row['reserved_room_type'] == row['assigned_room_type']:\n",
    "        dd.append(row['adr'])\n",
    "        if row['reserved_room_type'] in hr:\n",
    "            hd.append(row['adr'])\n",
    "        else:\n",
    "            ld.append(row['adr'])\n"
   ]
  },
  {
   "cell_type": "code",
   "execution_count": 26,
   "id": "dbe28a08",
   "metadata": {},
   "outputs": [],
   "source": [
    "dd = []\n",
    "hd = []\n",
    "ld = []\n",
    "\n",
    "hr = ['C', 'E', 'F', 'G', 'H']\n",
    "\n",
    "for i, row in df.iterrows():\n",
    "    if row['reserved_room_type'] == row['assigned_room_type']:\n",
    "        dd.append(row['adr'])\n",
    "        if row['reserved_room_type'] in hr:\n",
    "            hd.append(row['adr'])\n",
    "        else:\n",
    "            ld.append(row['adr'])"
   ]
  },
  {
   "cell_type": "code",
   "execution_count": 27,
   "id": "4e26b77e",
   "metadata": {},
   "outputs": [
    {
     "name": "stdout",
     "output_type": "stream",
     "text": [
      "Number of values in dd: 104473\n",
      "Number of values in hd: 12138\n",
      "Number of values in ld: 92335\n"
     ]
    }
   ],
   "source": [
    "print('Number of values in dd: ' + str(len(dd)))\n",
    "print('Number of values in hd: ' + str(len(hd)))\n",
    "print('Number of values in ld: ' + str(len(ld)))"
   ]
  },
  {
   "cell_type": "code",
   "execution_count": 28,
   "id": "e169ae21",
   "metadata": {},
   "outputs": [
    {
     "name": "stdout",
     "output_type": "stream",
     "text": [
      "DD\n",
      "Mean: 104.46886104543756\n",
      "Median: 96.0\n",
      "Min: 0.0\n",
      "Max: 5400.0\n",
      "Standard Deviation: 50.363316628974104\n",
      "Variance: 2536.4636618702993\n",
      "\n",
      "HD\n",
      "Mean: 149.89091613115835\n",
      "Median: 148.35000000000002\n",
      "Min: 0.0\n",
      "Max: 451.5\n",
      "Standard Deviation: 69.47852220958265\n",
      "Variance: 4827.265048427469\n",
      "\n",
      "LD\n",
      "Mean: 98.4978543347593\n",
      "Median: 93.6\n",
      "Min: 0.0\n",
      "Max: 5400.0\n",
      "Standard Deviation: 43.91418340216929\n",
      "Variance: 1928.455503879361\n"
     ]
    }
   ],
   "source": [
    "mean_value = np.mean(dd)\n",
    "median_value = np.median(dd)\n",
    "min_value = np.min(dd)\n",
    "max_value = np.max(dd)\n",
    "std_value = np.std(dd)\n",
    "var_value = np.var(dd)\n",
    "\n",
    "print(\"DD\")\n",
    "print(\"Mean:\", mean_value)\n",
    "print(\"Median:\", median_value)\n",
    "print(\"Min:\", min_value)\n",
    "print(\"Max:\", max_value)\n",
    "print(\"Standard Deviation:\", std_value)\n",
    "print(\"Variance:\", var_value)\n",
    "\n",
    "mean_value = np.mean(hd)\n",
    "median_value = np.median(hd)\n",
    "min_value = np.min(hd)\n",
    "max_value = np.max(hd)\n",
    "std_value = np.std(hd)\n",
    "var_value = np.var(hd)\n",
    "\n",
    "print(\"\")\n",
    "print(\"HD\")\n",
    "print(\"Mean:\", mean_value)\n",
    "print(\"Median:\", median_value)\n",
    "print(\"Min:\", min_value)\n",
    "print(\"Max:\", max_value)\n",
    "print(\"Standard Deviation:\", std_value)\n",
    "print(\"Variance:\", var_value)\n",
    "\n",
    "mean_value = np.mean(ld)\n",
    "median_value = np.median(ld)\n",
    "min_value = np.min(ld)\n",
    "max_value = np.max(ld)\n",
    "std_value = np.std(ld)\n",
    "var_value = np.var(ld)\n",
    "\n",
    "print(\"\")\n",
    "print(\"LD\")\n",
    "print(\"Mean:\", mean_value)\n",
    "print(\"Median:\", median_value)\n",
    "print(\"Min:\", min_value)\n",
    "print(\"Max:\", max_value)\n",
    "print(\"Standard Deviation:\", std_value)\n",
    "print(\"Variance:\", var_value)"
   ]
  },
  {
   "cell_type": "markdown",
   "id": "e1188732",
   "metadata": {},
   "source": [
    "Customers who reserved a higher priced room type will pay a lot more for the same room type. \n",
    "Customers who reserved a lower priced room type will pay a bit less for the same room type."
   ]
  },
  {
   "cell_type": "markdown",
   "id": "ff0b52aa",
   "metadata": {},
   "source": [
    "#### One Sampe Z-Test"
   ]
  },
  {
   "cell_type": "markdown",
   "id": "f8a52209",
   "metadata": {},
   "source": [
    "Validate previous conclusion on mean price for different customers"
   ]
  },
  {
   "cell_type": "markdown",
   "id": "7f726f06",
   "metadata": {},
   "source": [
    "Hypothesis:\n",
    "Test that the mean adr of customers who reserved and were assigned room type D is equal to those who reserved a different room and were assigned to type D\n",
    "\n",
    "Null Hypothesis: 𝜇=𝜇0\n",
    "Alternative: 𝜇≠𝜇0"
   ]
  },
  {
   "cell_type": "code",
   "execution_count": 29,
   "id": "c45d70b9",
   "metadata": {},
   "outputs": [
    {
     "name": "stdout",
     "output_type": "stream",
     "text": [
      "The test statistic is:  72.023\n",
      "The p-value is:  0.0\n",
      "At 0.05 level of significance, we reject null hypothesis.\n"
     ]
    }
   ],
   "source": [
    "alpha_value = 0.05\n",
    "pop_mean = np.mean(dd)\n",
    "\n",
    "(test_statistic, p_value) = weightstats.ztest(hd, value=pop_mean, alternative='two-sided', ddof=1.0)\n",
    "\n",
    "print(\"The test statistic is: \", round(test_statistic,3))\n",
    "print(\"The p-value is: \", round(p_value,3))\n",
    "\n",
    "if p_value < alpha_value:\n",
    "    print(\"At\",alpha_value, \"level of significance, we reject null hypothesis.\")\n",
    "else:\n",
    "    print(\"At\",alpha_value, \"level of significance, we failed to reject null hypothesis.\")"
   ]
  },
  {
   "cell_type": "code",
   "execution_count": 30,
   "id": "da34a8eb",
   "metadata": {},
   "outputs": [
    {
     "name": "stdout",
     "output_type": "stream",
     "text": [
      "The test statistic is:  -41.317\n",
      "The p-value is:  0.0\n",
      "At 0.05 level of significance, we reject null hypothesis.\n"
     ]
    }
   ],
   "source": [
    "alpha_value = 0.05\n",
    "pop_mean = np.mean(dd)\n",
    "\n",
    "(test_statistic, p_value) = weightstats.ztest(ld, value=pop_mean, alternative='two-sided', ddof=1.0)\n",
    "\n",
    "print(\"The test statistic is: \", round(test_statistic,3))\n",
    "print(\"The p-value is: \", round(p_value,3))\n",
    "\n",
    "if p_value < alpha_value:\n",
    "    print(\"At\",alpha_value, \"level of significance, we reject null hypothesis.\")\n",
    "else:\n",
    "    print(\"At\",alpha_value, \"level of significance, we failed to reject null hypothesis.\")"
   ]
  },
  {
   "cell_type": "markdown",
   "id": "1d58bbba",
   "metadata": {},
   "source": [
    "Conclusion: customers who reserved a different room type regardless of price end up paying a different price than those that reserved for this room type."
   ]
  },
  {
   "cell_type": "markdown",
   "id": "8a1a5968",
   "metadata": {},
   "source": [
    "#### Room Type D"
   ]
  },
  {
   "cell_type": "code",
   "execution_count": 31,
   "id": "15c245e1",
   "metadata": {},
   "outputs": [],
   "source": [
    "df3 = df[df['assigned_room_type'] == 'D']"
   ]
  },
  {
   "cell_type": "code",
   "execution_count": 32,
   "id": "ef3b7f62",
   "metadata": {},
   "outputs": [
    {
     "name": "stderr",
     "output_type": "stream",
     "text": [
      "/var/folders/s9/l42xsxx568z1smyl175jpx740000gn/T/ipykernel_1665/2530352496.py:2: UserWarning: \n",
      "\n",
      "`distplot` is a deprecated function and will be removed in seaborn v0.14.0.\n",
      "\n",
      "Please adapt your code to use either `displot` (a figure-level function with\n",
      "similar flexibility) or `histplot` (an axes-level function for histograms).\n",
      "\n",
      "For a guide to updating your code to use the new functions, please see\n",
      "https://gist.github.com/mwaskom/de44147ed2974457ad6372750bbe5751\n",
      "\n",
      "  sns.distplot(df3['adr'], fit=stats.norm, kde=False, bins=500)\n"
     ]
    },
    {
     "data": {
      "image/png": "[encoded data removed]",
      "text/plain": [
       "<Figure size 700x700 with 1 Axes>"
      ]
     },
     "metadata": {},
     "output_type": "display_data"
    }
   ],
   "source": [
    "plt.rcParams[\"figure.figsize\"] = [7,7]\n",
    "sns.distplot(df3['adr'], fit=stats.norm, kde=False, bins=500)\n",
    "sns.set_context(\"notebook\", font_scale=1.5, rc={\"font.size\":16,\"axes.titlesize\":16,\"axes.labelsize\":16}) \n",
    "plt.title('Histogram distribution of ADR of Room Type D')\n",
    "plt.xlim(0,400)\n",
    "plt.show();"
   ]
  },
  {
   "cell_type": "code",
   "execution_count": 33,
   "id": "2de80ba5",
   "metadata": {},
   "outputs": [
    {
     "name": "stdout",
     "output_type": "stream",
     "text": [
      "Kurtosis: 0.1270851623589988\n",
      "Skewness: 0.44156044404420286\n"
     ]
    }
   ],
   "source": [
    "data_kurtosis = kurtosis(df3['adr'])\n",
    "data_skewness = skew(df3['adr'])\n",
    "\n",
    "print(\"Kurtosis:\", data_kurtosis)\n",
    "print(\"Skewness:\", data_skewness)\n"
   ]
  },
  {
   "cell_type": "code",
   "execution_count": 34,
   "id": "c5e428dd",
   "metadata": {},
   "outputs": [],
   "source": [
    "# Define function for comparing two plots\n",
    "def compare_plot(feature, transformed_feature):\n",
    "    plt.rcParams[\"figure.figsize\"] = 13,5\n",
    "    fig,ax = plt.subplots(1,2)\n",
    "\n",
    "    stdDev = np.round(np.std(feature)[0],4) # for normal distribution, standard deviation is 1\n",
    "    skewness = np.round(skew(feature),4) # for normal distribution, skewness = 0\n",
    "    excess_kurtosis = np.round(kurtosis(feature),4) # for normal distribution, excess kurtosis = 0\n",
    "    sns.histplot(feature, kde=True, ax=ax[0], legend=False)\n",
    "    ax[0].set_xlabel(feature.columns[0])\n",
    "    ax[0].set_title(\"ORIGINAL \\n Standard Dev.: {0} \\n Skewness: {1} \\n Kurtosis: {2}\".format(stdDev, skewness, excess_kurtosis));\n",
    "\n",
    "    transformed_stdDev = np.round(np.std(transformed_feature)[0],4)\n",
    "    transformed_skewness = np.round(skew(transformed_feature),4)\n",
    "    transformed_excess_kurtosis = np.round(kurtosis(transformed_feature),4)\n",
    "    sns.histplot(transformed_feature, kde=True, ax=ax[1], legend=False)\n",
    "    ax[1].set_xlabel(feature.columns[0])\n",
    "    ax[1].set_title(\"TRANSFORMED \\n Standard Dev.: {0} \\n Skewness: {1} \\n Kurtosis: {2}\".format(transformed_stdDev, transformed_skewness, transformed_excess_kurtosis));"
   ]
  },
  {
   "cell_type": "code",
   "execution_count": 35,
   "id": "9a8c7e98",
   "metadata": {
    "scrolled": true
   },
   "outputs": [
    {
     "data": {
      "image/png": "[encoded data removed]",
      "text/plain": [
       "<Figure size 1300x500 with 2 Axes>"
      ]
     },
     "metadata": {},
     "output_type": "display_data"
    }
   ],
   "source": [
    "# Select feature\n",
    "feature = df3[[\"adr\"]] # in series\n",
    "\n",
    "# Transformation\n",
    "quantile = QuantileTransformer(output_distribution='normal', n_quantiles=10000) # with gaussian output\n",
    "quantile.fit(feature) # to avoid data leakage, only fit to training data\n",
    "transformed_feature = quantile.transform(feature) # then perform transform on both training data and test data.\n",
    "transformed_feature = pd.DataFrame(transformed_feature)\n",
    "\n",
    "# Plot\n",
    "compare_plot(feature,transformed_feature)"
   ]
  },
  {
   "cell_type": "code",
   "execution_count": 36,
   "id": "76c70127",
   "metadata": {},
   "outputs": [
    {
     "data": {
      "image/png": "[encoded data removed]",
      "text/plain": [
       "<Figure size 1300x500 with 2 Axes>"
      ]
     },
     "metadata": {},
     "output_type": "display_data"
    }
   ],
   "source": [
    "import statsmodels.api as sm\n",
    "\n",
    "fig, ax = plt.subplots(1,2,figsize=(13, 5))\n",
    "qq = sm.qqplot(df3[\"adr\"], line='s', ax=ax[0])\n",
    "ax[0].set_title(\"ORIGINAL\")\n",
    "\n",
    "qq = sm.qqplot(transformed_feature, line='s', ax=ax[1])\n",
    "ax[1].set_title(\"TRANSFORMED\")\n",
    "plt.show();"
   ]
  },
  {
   "cell_type": "markdown",
   "id": "9dc9d04d",
   "metadata": {},
   "source": [
    "#### Chi-squared Test "
   ]
  },
  {
   "cell_type": "markdown",
   "id": "561c607d",
   "metadata": {},
   "source": [
    "- goodness of fit test\n",
    "- check the distribution of room types"
   ]
  },
  {
   "cell_type": "code",
   "execution_count": 37,
   "id": "bea29bf7",
   "metadata": {},
   "outputs": [],
   "source": [
    "sample_percent = 0.2\n",
    "alpha_value = 0.05\n",
    "random_seed = 123"
   ]
  },
  {
   "cell_type": "markdown",
   "id": "180cf9b4",
   "metadata": {},
   "source": [
    "Filter out assigned room type L and P as there not enough counts of these room types."
   ]
  },
  {
   "cell_type": "code",
   "execution_count": 38,
   "id": "f01fded2",
   "metadata": {},
   "outputs": [],
   "source": [
    "df = df[df['assigned_room_type']!='L']\n",
    "df = df[df['assigned_room_type']!='P']"
   ]
  },
  {
   "cell_type": "code",
   "execution_count": 39,
   "id": "9d64092b",
   "metadata": {},
   "outputs": [],
   "source": [
    "total_count = df[\"assigned_room_type\"].count()\n",
    "\n",
    "grpA = df.groupby(\"assigned_room_type\").get_group(\"A\")\n",
    "pA = grpA[\"assigned_room_type\"].count()/total_count\n",
    "\n",
    "grpB = df.groupby(\"assigned_room_type\").get_group(\"B\")\n",
    "pB = grpB[\"assigned_room_type\"].count()/total_count\n",
    "\n",
    "grpC = df.groupby(\"assigned_room_type\").get_group(\"C\")\n",
    "pC = grpC[\"assigned_room_type\"].count()/total_count\n",
    "\n",
    "grpD = df.groupby(\"assigned_room_type\").get_group(\"D\")\n",
    "pD = grpD[\"assigned_room_type\"].count()/total_count\n",
    "\n",
    "grpE = df.groupby(\"assigned_room_type\").get_group(\"E\")\n",
    "pE = grpE[\"assigned_room_type\"].count()/total_count\n",
    "\n",
    "grpF = df.groupby(\"assigned_room_type\").get_group(\"F\")\n",
    "pF = grpF[\"assigned_room_type\"].count()/total_count\n",
    "\n",
    "grpG = df.groupby(\"assigned_room_type\").get_group(\"G\")\n",
    "pG = grpG[\"assigned_room_type\"].count()/total_count\n",
    "\n",
    "grpH = df.groupby(\"assigned_room_type\").get_group(\"H\")\n",
    "pH = grpH[\"assigned_room_type\"].count()/total_count\n",
    "\n",
    "grpI = df.groupby(\"assigned_room_type\").get_group(\"I\")\n",
    "pI = grpI[\"assigned_room_type\"].count()/total_count\n",
    "\n",
    "grpK = df.groupby(\"assigned_room_type\").get_group(\"K\")\n",
    "pK = grpK[\"assigned_room_type\"].count()/total_count\n",
    "\n",
    "observedValues = [pA,pB,pC,pD,pE,pF,pG,pH,pI,pK]\n",
    "\n",
    "expectedValues = [0.1,0.1,0.1,0.1,0.1,0.1,0.1,0.1,0.1,0.1]"
   ]
  },
  {
   "cell_type": "code",
   "execution_count": 40,
   "id": "079aae6a",
   "metadata": {},
   "outputs": [
    {
     "name": "stdout",
     "output_type": "stream",
     "text": [
      "The test statistic is:  3.36297\n",
      "The p-value is:  0.94815 \n",
      "\n",
      "At 0.05 level of significance, we FAILED TO REJECT null hypothesis.\n",
      "Conclusion: Samples are likely from same the distribution.\n"
     ]
    }
   ],
   "source": [
    "# Perform Chi Square test (goodness of fit)\n",
    "# scipy.stats.chisquare(f_obs, f_exp=None, ddof=0, axis=0)\n",
    "# degree of freedom = k - 1 - ddof\n",
    "\n",
    "(test_statistic, p_value) = stats.chisquare(f_obs=observedValues, f_exp=expectedValues, axis=0)\n",
    "\n",
    "print(\"The test statistic is: \", round(test_statistic,5))\n",
    "print(\"The p-value is: \", round(p_value,5), \"\\n\")\n",
    "\n",
    "if p_value < alpha_value:\n",
    "    print(\"At\", alpha_value, \"level of significance, we REJECT null hypothesis.\")\n",
    "    print(\"Conclusion: Samples are likely not from the same distribution.\")\n",
    "else:\n",
    "    print(\"At\", alpha_value, \"level of significance, we FAILED TO REJECT null hypothesis.\")\n",
    "    print(\"Conclusion: Samples are likely from same the distribution.\")"
   ]
  },
  {
   "cell_type": "code",
   "execution_count": 41,
   "id": "2927626e",
   "metadata": {},
   "outputs": [],
   "source": [
    "df=pd.read_csv(\"/Users/helenwind/SUTD/M5/Project/Hotel Data.csv\")"
   ]
  },
  {
   "cell_type": "markdown",
   "id": "9334c905",
   "metadata": {},
   "source": [
    "check if distribution of reserved room is equal"
   ]
  },
  {
   "cell_type": "code",
   "execution_count": 42,
   "id": "19984e2b",
   "metadata": {},
   "outputs": [],
   "source": [
    "total_count = df[\"reserved_room_type\"].count()\n",
    "\n",
    "grpA = df.groupby(\"reserved_room_type\").get_group(\"A\")\n",
    "pA = grpA[\"reserved_room_type\"].count()/total_count\n",
    "\n",
    "grpB = df.groupby(\"reserved_room_type\").get_group(\"B\")\n",
    "pB = grpB[\"reserved_room_type\"].count()/total_count\n",
    "\n",
    "grpC = df.groupby(\"reserved_room_type\").get_group(\"C\")\n",
    "pC = grpC[\"reserved_room_type\"].count()/total_count\n",
    "\n",
    "grpD = df.groupby(\"reserved_room_type\").get_group(\"D\")\n",
    "pD = grpD[\"reserved_room_type\"].count()/total_count\n",
    "\n",
    "grpE = df.groupby(\"reserved_room_type\").get_group(\"E\")\n",
    "pE = grpE[\"reserved_room_type\"].count()/total_count\n",
    "\n",
    "grpF = df.groupby(\"reserved_room_type\").get_group(\"F\")\n",
    "pF = grpF[\"reserved_room_type\"].count()/total_count\n",
    "\n",
    "grpG = df.groupby(\"reserved_room_type\").get_group(\"G\")\n",
    "pG = grpG[\"reserved_room_type\"].count()/total_count\n",
    "\n",
    "grpH = df.groupby(\"reserved_room_type\").get_group(\"H\")\n",
    "pH = grpH[\"reserved_room_type\"].count()/total_count\n",
    "\n",
    "grpI = df.groupby(\"reserved_room_type\").get_group(\"P\")\n",
    "pI = grpI[\"reserved_room_type\"].count()/total_count\n",
    "\n",
    "grpK = df.groupby(\"reserved_room_type\").get_group(\"L\")\n",
    "pK = grpK[\"reserved_room_type\"].count()/total_count\n",
    "\n",
    "observedValues = [pA,pB,pC,pD,pE,pF,pG,pH,pI,pK]\n",
    "\n",
    "expectedValues = [0.1,0.1,0.1,0.1,0.1,0.1,0.1,0.1,0.1,0.1]"
   ]
  },
  {
   "cell_type": "code",
   "execution_count": 43,
   "id": "d43957bd",
   "metadata": {},
   "outputs": [
    {
     "name": "stdout",
     "output_type": "stream",
     "text": [
      "The test statistic is:  4.48732\n",
      "The p-value is:  0.87652 \n",
      "\n",
      "At 0.05 level of significance, we FAILED TO REJECT null hypothesis.\n",
      "Conclusion: Samples are likely from same the distribution.\n"
     ]
    }
   ],
   "source": [
    "# Perform Chi Square test (goodness of fit)\n",
    "# scipy.stats.chisquare(f_obs, f_exp=None, ddof=0, axis=0)\n",
    "# degree of freedom = k - 1 - ddof\n",
    "\n",
    "(test_statistic, p_value) = stats.chisquare(f_obs=observedValues, f_exp=expectedValues, axis=0)\n",
    "\n",
    "print(\"The test statistic is: \", round(test_statistic,5))\n",
    "print(\"The p-value is: \", round(p_value,5), \"\\n\")\n",
    "\n",
    "if p_value < alpha_value:\n",
    "    print(\"At\", alpha_value, \"level of significance, we REJECT null hypothesis.\")\n",
    "    print(\"Conclusion: Samples are likely not from the same distribution.\")\n",
    "else:\n",
    "    print(\"At\", alpha_value, \"level of significance, we FAILED TO REJECT null hypothesis.\")\n",
    "    print(\"Conclusion: Samples are likely from same the distribution.\")"
   ]
  }
 ],
 "metadata": {
  "kernelspec": {
   "display_name": "Python 3 (ipykernel)",
   "language": "python",
   "name": "python3"
  },
  "language_info": {
   "codemirror_mode": {
    "name": "ipython",
    "version": 3
   },
   "file_extension": ".py",
   "mimetype": "text/x-python",
   "name": "python",
   "nbconvert_exporter": "python",
   "pygments_lexer": "ipython3",
   "version": "3.10.9"
  },
  "toc": {
   "base_numbering": 1,
   "nav_menu": {},
   "number_sections": true,
   "sideBar": true,
   "skip_h1_title": false,
   "title_cell": "Table of Contents",
   "title_sidebar": "Contents",
   "toc_cell": false,
   "toc_position": {},
   "toc_section_display": true,
   "toc_window_display": false
  }
 },
 "nbformat": 4,
 "nbformat_minor": 5
}
